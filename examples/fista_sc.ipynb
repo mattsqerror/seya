{
 "metadata": {
  "kernelspec": {
   "display_name": "Python 2",
   "language": "python",
   "name": "python2"
  },
  "language_info": {
   "codemirror_mode": {
    "name": "ipython",
    "version": 2
   },
   "file_extension": ".py",
   "mimetype": "text/x-python",
   "name": "python",
   "nbconvert_exporter": "python",
   "pygments_lexer": "ipython2",
   "version": "2.7.10"
  },
  "name": "",
  "signature": "sha256:2a41f476284185371f1dc1a7afc3adc33bfea50c795b8d604d49083ccf21aa1a"
 },
 "nbformat": 3,
 "nbformat_minor": 0,
 "worksheets": [
  {
   "cells": [
    {
     "cell_type": "code",
     "collapsed": false,
     "input": [
      "# Download a natural image patches dataset\n",
      "%matplotlib inline\n",
      "import os\n",
      "import numpy as np\n",
      "import theano\n",
      "from scipy.io import loadmat\n",
      "\n",
      "#os.system('wget http://cs.stanford.edu/~jngiam/data/patches.mat')\n",
      "import matplotlib.pyplot as plt\n",
      "from sklearn.datasets import fetch_mldata\n",
      "\n",
      "from keras.models import Sequential, Graph\n",
      "from keras.regularizers import l2\n",
      "from keras.optimizers import RMSprop, SGD\n",
      "from keras.callbacks import Callback\n",
      "from seya.layers.coding import SparseCoding, Sparse2L\n",
      "from seya.layers.base import Lambda\n",
      "from seya.objectives import sum_mse\n",
      "from seya.callbacks import RenormalizeWeight\n",
      "\n",
      "from agnez import grid2d, pref_grid\n",
      "\n",
      "floatX = theano.config.floatX"
     ],
     "language": "python",
     "metadata": {},
     "outputs": []
    },
    {
     "cell_type": "code",
     "collapsed": false,
     "input": [
      "S = loadmat('/home/eders/python/blog/patches.mat')['data'].T.astype(floatX)\n",
      "print S.shape"
     ],
     "language": "python",
     "metadata": {},
     "outputs": []
    },
    {
     "cell_type": "code",
     "collapsed": false,
     "input": [
      "mean = S.mean(axis=1)\n",
      "S -= mean[np.newaxis].T # we remove the mean otherwise Sparse Coding will focus only on that\n",
      "\n",
      "def zca_whitening(inputs):\n",
      "    sigma = np.dot(inputs.T, inputs)/inputs.shape[0] #Correlation matrix\n",
      "    U,S,V = np.linalg.svd(sigma) #Singular Value Decomposition\n",
      "    epsilon = 0.1 #Whitening constant, it prevents division by zero\n",
      "    ZCAMatrix = np.dot(np.dot(U, np.diag(1.0/np.sqrt(S + epsilon))), U.T) #ZCA Whitening matrix\n",
      "    return np.dot(ZCAMatrix, inputs.T).T #Data whitening\n",
      "\n",
      "# S = zca_whitening(S)\n",
      "# S -= mean[np.newaxis] # we remove the mean otherwise Sparse Coding will focus only on that\n",
      "print S.shape"
     ],
     "language": "python",
     "metadata": {},
     "outputs": []
    },
    {
     "cell_type": "code",
     "collapsed": false,
     "input": [
      "I = grid2d(S[:100])\n",
      "plt.imshow(I)"
     ],
     "language": "python",
     "metadata": {},
     "outputs": []
    },
    {
     "cell_type": "code",
     "collapsed": false,
     "input": [
      "from keras.callbacks import Callback\n",
      "from seya.layers.coding import SparseCodingFista\n",
      "class Renorm(Callback):\n",
      "    def __init__(self, W):\n",
      "        self.W = W\n",
      "    def on_batch_begin(self, batch, logs={}):\n",
      "        W = self.W.get_value()\n",
      "        norm = np.sqrt((W**2).sum(axis=1))\n",
      "        W = W / norm[:, None]\n",
      "        self.W.set_value(W)\n",
      "        \n",
      "        \n",
      "class FistaCBK(Callback):\n",
      "    def __init__(self, layer):\n",
      "        self.layer = layer\n",
      "    def on_batch_begin(self, batch, logs={}):\n",
      "        s = batch * 100\n",
      "        l = (batch + 1) * 100\n",
      "        X = S[s:l]\n",
      "        self.layer._fista.y.set_value(self.layer.X.get_value())\n",
      "        self.layer._fista.optimize(X)\n",
      "        #X = S[s:l].T\n",
      "        #self.layer._fista(X, invL=.001)\n",
      "    def on_epoch_end(self, batch, logs={}):\n",
      "        x = self.layer.X.get_value() * 0\n",
      "        self.layer.X.set_value(x)\n",
      "        self.layer._fista.y.set_value(x)\n",
      "\n",
      "def new_mse(y_true, y_pred):\n",
      "    return ((y_true - y_pred)**2).sum()"
     ],
     "language": "python",
     "metadata": {},
     "outputs": []
    },
    {
     "cell_type": "code",
     "collapsed": false,
     "input": [
      "model = Sequential()\n",
      "model.add(\n",
      "    SparseCoding(\n",
      "        input_dim=256,\n",
      "        output_dim=256,\n",
      "        n_steps=100,\n",
      "        gamma=.3,\n",
      "        truncate_gradient=1, # no backpropagation through time today now,\n",
      "                             # just regular sparse coding\n",
      "        # W_regularizer=l2(.00005),\n",
      "        return_reconstruction=True # we will output Ax which approximates the input\n",
      "    )\n",
      ")\n",
      "\n",
      "sgd = SGD(.1)\n",
      "model.compile(loss=sum_mse, optimizer=sgd) # RMSprop for Maximization as well\n",
      "\n",
      "renorm = RenormalizeWeight(model.layers[0].W, transpose=True)"
     ],
     "language": "python",
     "metadata": {},
     "outputs": []
    },
    {
     "cell_type": "code",
     "collapsed": false,
     "input": [
      "import warnings\n",
      "warnings.filterwarnings(\"ignore\")\n",
      "\n",
      "nb_epoch = 5\n",
      "batch_size = 100\n",
      "model.fit(S, # input \n",
      "          S, # and output are the same thing, since we are doing generative modeling.\n",
      "          batch_size=batch_size,\n",
      "          nb_epoch=nb_epoch,\n",
      "          show_accuracy=False,\n",
      "          verbose=1, shuffle=False,\n",
      "          callbacks=[renorm])"
     ],
     "language": "python",
     "metadata": {},
     "outputs": []
    },
    {
     "cell_type": "code",
     "collapsed": false,
     "input": [
      "# Visualizing results\n",
      "A = model.params[0].get_value()\n",
      "I = grid2d(A)\n",
      "plt.figure(figsize=(5, 5))\n",
      "plt.imshow(I)"
     ],
     "language": "python",
     "metadata": {},
     "outputs": []
    },
    {
     "cell_type": "code",
     "collapsed": false,
     "input": [
      "A.max()"
     ],
     "language": "python",
     "metadata": {},
     "outputs": []
    },
    {
     "cell_type": "markdown",
     "metadata": {},
     "source": [
      "#Sparse2L"
     ]
    },
    {
     "cell_type": "code",
     "collapsed": false,
     "input": [
      "class Vchange(Callback):\n",
      "    def on_epoch_begin(self, epoch, logs={}):\n",
      "        self.V = model.nodes['sc'].params[1].get_value()\n",
      "        self.W = model.nodes['sc'].params[0].get_value()\n",
      "    def on_epoch_end(self, epoch, logs={}):\n",
      "        V = model.nodes['sc'].params[1].get_value()\n",
      "        print abs(V-self.V).sum()\n",
      "        W = model.nodes['sc'].params[0].get_value()\n",
      "        print abs(W-self.W).sum()"
     ],
     "language": "python",
     "metadata": {},
     "outputs": []
    },
    {
     "cell_type": "code",
     "collapsed": false,
     "input": [
      "def self_cost(y_true, y_pred):\n",
      "    return y_pred.sum() + y_true.sum()*0"
     ],
     "language": "python",
     "metadata": {},
     "outputs": []
    },
    {
     "cell_type": "code",
     "collapsed": false,
     "input": [
      "model = Graph()\n",
      "model.add_input(name='input', ndim=2)\n",
      "model.add_node(Sparse2L(input_dim=256, output_dim=256*4, return_mode='all', truncate_gradient=1,\n",
      "                        causes_dim=9, n_steps=100, gamma=.1), name='sc', input='input')\n",
      "model.add_node(Lambda(lambda x: x[3]), name='rec', input='sc', create_output=True)\n",
      "model.add_node(Lambda(lambda x: x[2]), name='causes', input='sc', create_output=True)"
     ],
     "language": "python",
     "metadata": {},
     "outputs": []
    },
    {
     "cell_type": "code",
     "collapsed": false,
     "input": [
      "model.nodes['sc'].get_output()\n",
      "vchange = Vchange()"
     ],
     "language": "python",
     "metadata": {},
     "outputs": []
    },
    {
     "cell_type": "code",
     "collapsed": false,
     "input": [
      "renorm_W = RenormalizeWeight(model.nodes['sc'].params[0])\n",
      "renorm_V = RenormalizeWeight(model.nodes['sc'].params[1], transpose=True)\n",
      "rms = SGD(lr=.1)\n",
      "model.compile(loss={'causes': self_cost, 'rec': sum_mse}, optimizer=rms)"
     ],
     "language": "python",
     "metadata": {},
     "outputs": []
    },
    {
     "cell_type": "code",
     "collapsed": false,
     "input": [
      "batch_size = 100\n",
      "nb_epoch = 10\n",
      "model.fit({'input': S,'causes':np.zeros((60000,1)), 'rec': S},\n",
      "          batch_size=batch_size,\n",
      "          nb_epoch=nb_epoch,\n",
      "          verbose=1,\n",
      "          callbacks=[renorm_W, renorm_V, vchange])"
     ],
     "language": "python",
     "metadata": {},
     "outputs": []
    },
    {
     "cell_type": "code",
     "collapsed": false,
     "input": [
      "def pref_grid(above, bellow, num_preferred=9, abs_value=True, pad_row=5):\n",
      "      idx = np.random.randint(above.shape[0], size=num_preferred)\n",
      "      R = np.abs(above) if abs_value else above\n",
      "      X = np.zeros((num_preferred**2, bellow.shape[1]))\n",
      "      print R.shape\n",
      "      fig = plt.figure(figsize=(10,10))\n",
      "      c = 0\n",
      "      for i, w in enumerate(R):\n",
      "          s = np.argsort(w)[::-1]\n",
      "          # prefs = s[:-num_preferred-1:-1]\n",
      "          prefs = s[:num_preferred]\n",
      "          first = i*num_preferred\n",
      "          last = (i+1)*num_preferred\n",
      "          X[first:last] = bellow[prefs]\n",
      "          for j in range(num_preferred):\n",
      "                c += 1\n",
      "                plt.subplot(R.shape[0], num_preferred, c)\n",
      "                plt.imshow(bellow[prefs][j].reshape(16,16))\n",
      "                plt.axis('off')\n",
      "      # visual = grid2d(X, pad_col=1, pad_row=pad_row)\n",
      "      return fig  # visual[pad_row-1:-pad_row+1, :]"
     ],
     "language": "python",
     "metadata": {},
     "outputs": []
    },
    {
     "cell_type": "code",
     "collapsed": false,
     "input": [
      "W = model.nodes['sc'].W.get_value()\n",
      "V = model.nodes['sc'].V.get_value() # .reshape((100, 1, 8, 8)).repeat(2, axis=1).repeat(2, axis=2).reshape((100, -1))\n",
      "# print V.shape\n",
      "I = grid2d(W)\n",
      "J = pref_grid(V, W, num_preferred=9, abs_value=True)\n",
      "H = grid2d(V)"
     ],
     "language": "python",
     "metadata": {},
     "outputs": []
    },
    {
     "cell_type": "code",
     "collapsed": false,
     "input": [
      "plt.imshow(I)"
     ],
     "language": "python",
     "metadata": {},
     "outputs": []
    },
    {
     "cell_type": "code",
     "collapsed": false,
     "input": [
      "plt.imshow(H)"
     ],
     "language": "python",
     "metadata": {},
     "outputs": []
    },
    {
     "cell_type": "code",
     "collapsed": false,
     "input": [
      "V.max()"
     ],
     "language": "python",
     "metadata": {},
     "outputs": []
    },
    {
     "cell_type": "code",
     "collapsed": false,
     "input": [],
     "language": "python",
     "metadata": {},
     "outputs": []
    }
   ],
   "metadata": {}
  }
 ]
}